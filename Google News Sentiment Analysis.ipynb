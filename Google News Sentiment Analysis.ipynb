{
 "cells": [
  {
   "cell_type": "code",
   "execution_count": 1,
   "id": "f12ae22c",
   "metadata": {},
   "outputs": [],
   "source": [
    "#2. Google News Sentiment Analysis"
   ]
  },
  {
   "cell_type": "code",
   "execution_count": 2,
   "id": "2f021b5c",
   "metadata": {},
   "outputs": [],
   "source": [
    "#--Importing the basic libraries\n",
    "import pandas as pd\n",
    "import numpy as np\n",
    "import seaborn as sns\n",
    "import matplotlib.pyplot as plt\n",
    "\n",
    "sns.set_theme(style = 'whitegrid', context = 'paper', palette = 'Set3', font = 'Georgia')"
   ]
  },
  {
   "cell_type": "code",
   "execution_count": 3,
   "id": "d1e59d1e",
   "metadata": {},
   "outputs": [
    {
     "data": {
      "text/html": [
       "<div>\n",
       "<style scoped>\n",
       "    .dataframe tbody tr th:only-of-type {\n",
       "        vertical-align: middle;\n",
       "    }\n",
       "\n",
       "    .dataframe tbody tr th {\n",
       "        vertical-align: top;\n",
       "    }\n",
       "\n",
       "    .dataframe thead th {\n",
       "        text-align: right;\n",
       "    }\n",
       "</style>\n",
       "<table border=\"1\" class=\"dataframe\">\n",
       "  <thead>\n",
       "    <tr style=\"text-align: right;\">\n",
       "      <th></th>\n",
       "      <th>Unnamed: 0</th>\n",
       "      <th>text</th>\n",
       "      <th>name</th>\n",
       "      <th>Date</th>\n",
       "      <th>sentiment</th>\n",
       "    </tr>\n",
       "  </thead>\n",
       "  <tbody>\n",
       "    <tr>\n",
       "      <th>0</th>\n",
       "      <td>1</td>\n",
       "      <td>Theresa May has struck a deal with Brussels th...</td>\n",
       "      <td>UK</td>\n",
       "      <td>2018-11-01</td>\n",
       "      <td>0</td>\n",
       "    </tr>\n",
       "    <tr>\n",
       "      <th>1</th>\n",
       "      <td>2</td>\n",
       "      <td>The agreement may give UK firms continued acce...</td>\n",
       "      <td>UK</td>\n",
       "      <td>2018-11-01</td>\n",
       "      <td>1</td>\n",
       "    </tr>\n",
       "    <tr>\n",
       "      <th>2</th>\n",
       "      <td>3</td>\n",
       "      <td>Nobody knows when, but the Brexit secretary, D...</td>\n",
       "      <td>UK</td>\n",
       "      <td>2018-11-01</td>\n",
       "      <td>0</td>\n",
       "    </tr>\n",
       "    <tr>\n",
       "      <th>3</th>\n",
       "      <td>4</td>\n",
       "      <td>There's no shame in asking voters to express t...</td>\n",
       "      <td>UK</td>\n",
       "      <td>2018-11-01</td>\n",
       "      <td>0</td>\n",
       "    </tr>\n",
       "    <tr>\n",
       "      <th>4</th>\n",
       "      <td>5</td>\n",
       "      <td>Dominic Raab warns that \"obstacles remain\" but...</td>\n",
       "      <td>UK</td>\n",
       "      <td>2018-11-01</td>\n",
       "      <td>0</td>\n",
       "    </tr>\n",
       "  </tbody>\n",
       "</table>\n",
       "</div>"
      ],
      "text/plain": [
       "   Unnamed: 0                                               text name  \\\n",
       "0           1  Theresa May has struck a deal with Brussels th...   UK   \n",
       "1           2  The agreement may give UK firms continued acce...   UK   \n",
       "2           3  Nobody knows when, but the Brexit secretary, D...   UK   \n",
       "3           4  There's no shame in asking voters to express t...   UK   \n",
       "4           5  Dominic Raab warns that \"obstacles remain\" but...   UK   \n",
       "\n",
       "         Date  sentiment  \n",
       "0  2018-11-01          0  \n",
       "1  2018-11-01          1  \n",
       "2  2018-11-01          0  \n",
       "3  2018-11-01          0  \n",
       "4  2018-11-01          0  "
      ]
     },
     "execution_count": 3,
     "metadata": {},
     "output_type": "execute_result"
    }
   ],
   "source": [
    "#--Loading the dataset\n",
    "df = pd.read_csv('E:/Downloads/DataSets/global news.csv', encoding = 'latin_1')\n",
    "df.head()"
   ]
  },
  {
   "cell_type": "code",
   "execution_count": 4,
   "id": "cb5b2f07",
   "metadata": {},
   "outputs": [],
   "source": [
    "#--Dropping redundant column\n",
    "df.drop('Unnamed: 0', inplace = True, axis = 1)"
   ]
  },
  {
   "cell_type": "code",
   "execution_count": 5,
   "id": "c3e77507",
   "metadata": {},
   "outputs": [
    {
     "data": {
      "text/plain": [
       "text         0\n",
       "name         0\n",
       "Date         0\n",
       "sentiment    0\n",
       "dtype: int64"
      ]
     },
     "execution_count": 5,
     "metadata": {},
     "output_type": "execute_result"
    }
   ],
   "source": [
    "#--Checking for null values\n",
    "df.isnull().sum()"
   ]
  },
  {
   "cell_type": "code",
   "execution_count": 6,
   "id": "b5ec8a2e",
   "metadata": {},
   "outputs": [
    {
     "data": {
      "text/plain": [
       "text         object\n",
       "name         object\n",
       "Date         object\n",
       "sentiment     int64\n",
       "dtype: object"
      ]
     },
     "execution_count": 6,
     "metadata": {},
     "output_type": "execute_result"
    }
   ],
   "source": [
    "#--Dtypes\n",
    "df.dtypes"
   ]
  },
  {
   "cell_type": "code",
   "execution_count": 7,
   "id": "688bba50",
   "metadata": {},
   "outputs": [],
   "source": [
    "#--Changing data types where required\n",
    "df['Date'] = pd.to_datetime(df['Date']).dt.date\n",
    "df['sentiment'] = df['sentiment'].astype('category')"
   ]
  },
  {
   "cell_type": "code",
   "execution_count": 8,
   "id": "58d9d9aa",
   "metadata": {},
   "outputs": [
    {
     "name": "stderr",
     "output_type": "stream",
     "text": [
      "C:\\ProgramData\\Anaconda3\\lib\\site-packages\\seaborn\\_decorators.py:36: FutureWarning: Pass the following variables as keyword args: x, y. From version 0.12, the only valid positional argument will be `data`, and passing other arguments without an explicit keyword will result in an error or misinterpretation.\n",
      "  warnings.warn(\n"
     ]
    },
    {
     "data": {
      "image/png": "[encoded data removed]",
      "text/plain": [
       "<Figure size 640x480 with 1 Axes>"
      ]
     },
     "metadata": {},
     "output_type": "display_data"
    }
   ],
   "source": [
    "#--Countplot for Country\n",
    "sns.barplot(df['name'].value_counts().index, df['name'].value_counts().values, alpha = .8)\n",
    "plt.xticks(rotation = '90')\n",
    "plt.show()"
   ]
  },
  {
   "cell_type": "code",
   "execution_count": 37,
   "id": "4f2ac3d7",
   "metadata": {},
   "outputs": [
    {
     "data": {
      "text/plain": [
       "Index(['UK', 'US', 'India', 'Italy', 'Argentina', 'Canada', 'France',\n",
       "       'Australia', 'Germany', 'Mexico', 'Russia', 'Ireland', 'Africa',\n",
       "       'Pakistan', 'Malaysia', 'Israel', 'Turkey', 'Singapore', 'New Zealand',\n",
       "       'Austria', 'Belgium', 'Latvia', 'Norway', 'China'],\n",
       "      dtype='object')"
      ]
     },
     "execution_count": 37,
     "metadata": {},
     "output_type": "execute_result"
    }
   ],
   "source": [
    "df['name'].value_counts().index"
   ]
  },
  {
   "cell_type": "code",
   "execution_count": 9,
   "id": "1b04e959",
   "metadata": {},
   "outputs": [
    {
     "name": "stderr",
     "output_type": "stream",
     "text": [
      "C:\\ProgramData\\Anaconda3\\lib\\site-packages\\seaborn\\_decorators.py:36: FutureWarning: Pass the following variables as keyword args: x, y. From version 0.12, the only valid positional argument will be `data`, and passing other arguments without an explicit keyword will result in an error or misinterpretation.\n",
      "  warnings.warn(\n"
     ]
    },
    {
     "data": {
      "image/png": "[encoded data removed]",
      "text/plain": [
       "<Figure size 640x480 with 1 Axes>"
      ]
     },
     "metadata": {},
     "output_type": "display_data"
    }
   ],
   "source": [
    "#--Count plot for sentiment\n",
    "sns.barplot(df['sentiment'].value_counts().index, df['sentiment'].value_counts().values, alpha = .8)\n",
    "plt.xticks(rotation = '90')\n",
    "plt.show()"
   ]
  },
  {
   "cell_type": "code",
   "execution_count": 10,
   "id": "1555650b",
   "metadata": {},
   "outputs": [
    {
     "data": {
      "text/plain": [
       "'Theresa May has struck a deal with Brussels that would give UK financial services companies continued access to European markets after Brexit. British and ...'"
      ]
     },
     "execution_count": 10,
     "metadata": {},
     "output_type": "execute_result"
    }
   ],
   "source": [
    "df['text'][0]"
   ]
  },
  {
   "cell_type": "code",
   "execution_count": 11,
   "id": "8d5f43c3",
   "metadata": {},
   "outputs": [
    {
     "name": "stdout",
     "output_type": "stream",
     "text": [
      "Polarity score for first text in the data : 0.0\n"
     ]
    }
   ],
   "source": [
    "#--Polarity score using Text Blob\n",
    "from textblob import TextBlob\n",
    "text = df['text'][0]\n",
    "print(f\"Polarity score for first text in the data : {TextBlob(text).sentiment.polarity}\")"
   ]
  },
  {
   "cell_type": "code",
   "execution_count": 12,
   "id": "9c1c96fd",
   "metadata": {},
   "outputs": [],
   "source": [
    "#--Polarity score using Vader\n",
    "from vaderSentiment.vaderSentiment import SentimentIntensityAnalyzer"
   ]
  },
  {
   "cell_type": "code",
   "execution_count": 13,
   "id": "2faa6797",
   "metadata": {},
   "outputs": [],
   "source": [
    "#pip install vaderSentiment"
   ]
  },
  {
   "cell_type": "code",
   "execution_count": 14,
   "id": "c8a2ea43",
   "metadata": {},
   "outputs": [
    {
     "name": "stdout",
     "output_type": "stream",
     "text": [
      "The polarity score based on VADER is : -0.25\n"
     ]
    }
   ],
   "source": [
    "vader = SentimentIntensityAnalyzer()\n",
    "score = vader.polarity_scores(text)\n",
    "polarity = score['compound']\n",
    "print(f\"The polarity score based on VADER is : {polarity}\")"
   ]
  },
  {
   "cell_type": "code",
   "execution_count": 15,
   "id": "a561e23e",
   "metadata": {},
   "outputs": [
    {
     "name": "stdout",
     "output_type": "stream",
     "text": [
      "The polarity score based on NLTK is : -0.25\n"
     ]
    },
    {
     "name": "stderr",
     "output_type": "stream",
     "text": [
      "[nltk_data] Error loading vader_lexicon: <urlopen error [Errno 11001]\n",
      "[nltk_data]     getaddrinfo failed>\n"
     ]
    }
   ],
   "source": [
    "#--Polarity score using NLTK ---> it is same as VADER class\n",
    "import nltk\n",
    "from nltk.sentiment import SentimentIntensityAnalyzer as sia\n",
    "nltk.download('vader_lexicon')\n",
    "analyzer = sia()\n",
    "score_ = analyzer.polarity_scores(text)\n",
    "polarity_ = score['compound']\n",
    "print(f\"The polarity score based on NLTK is : {polarity_}\")"
   ]
  },
  {
   "cell_type": "code",
   "execution_count": 16,
   "id": "43a0c57b",
   "metadata": {},
   "outputs": [
    {
     "data": {
      "text/plain": [
       "\"\\ndef polarity(column):\\n    polarity_scores = []  # Create a list to store polarity scores\\n    for text in column:\\n        score = vader.polarity_scores(text)\\n        polarity = score['compound']\\n        polarity_scores.append(polarity)  # Append the polarity score to the list\\n    return polarity_scores  # Return the list of polarity scores\\n    \""
      ]
     },
     "execution_count": 16,
     "metadata": {},
     "output_type": "execute_result"
    }
   ],
   "source": [
    "\"\"\"\n",
    "def polarity(column):\n",
    "    polarity_scores = []  # Create a list to store polarity scores\n",
    "    for text in column:\n",
    "        score = vader.polarity_scores(text)\n",
    "        polarity = score['compound']\n",
    "        polarity_scores.append(polarity)  # Append the polarity score to the list\n",
    "    return polarity_scores  # Return the list of polarity scores\n",
    "    \"\"\""
   ]
  },
  {
   "cell_type": "code",
   "execution_count": 18,
   "id": "e1578ff3",
   "metadata": {},
   "outputs": [],
   "source": [
    "#--A function to apply for polarity scores\n",
    "polarity = lambda text : vader.polarity_scores(text)['compound']\n",
    "df['vader score'] = df['text'].apply(polarity)"
   ]
  },
  {
   "cell_type": "code",
   "execution_count": 19,
   "id": "ac48b771",
   "metadata": {},
   "outputs": [
    {
     "data": {
      "text/plain": [
       "0   -0.2500\n",
       "1    0.4939\n",
       "2    0.7615\n",
       "3    0.7048\n",
       "4   -0.2500\n",
       "Name: vader score, dtype: float64"
      ]
     },
     "execution_count": 19,
     "metadata": {},
     "output_type": "execute_result"
    }
   ],
   "source": [
    "df['vader score'].head()"
   ]
  },
  {
   "cell_type": "code",
   "execution_count": 41,
   "id": "040aaab6",
   "metadata": {},
   "outputs": [],
   "source": [
    "#--Dividing countries based on the the number of news from the country\n",
    "top = ['UK', 'US', 'India', 'Italy', 'Argentina', 'Canada', 'France',\n",
    "       'Australia']\n",
    "middle = ['Germany', 'Mexico', 'Russia', 'Ireland', 'Africa',\n",
    "       'Pakistan', 'Malaysia', 'Israel']\n",
    "bottom = ['Turkey', 'Singapore', 'New Zealand',\n",
    "       'Austria', 'Belgium', 'Latvia', 'Norway', 'China']\n",
    "\n",
    "df['category'] = [0 if i in bottom else 1 if i in middle else 2 for i in df['name']]"
   ]
  },
  {
   "cell_type": "code",
   "execution_count": null,
   "id": "e175c9f5",
   "metadata": {},
   "outputs": [],
   "source": [
    "#--New data frame for visualizing\n",
    "new_df = df.groupby(['category','Date']).mean()\n",
    "new_df = new_df.unstack()\n",
    "new_df = new_df.xs('vader score', axis = 'columns').transpose()"
   ]
  },
  {
   "cell_type": "code",
   "execution_count": 44,
   "id": "f397a920",
   "metadata": {},
   "outputs": [
    {
     "data": {
      "text/plain": [
       "<Figure size 1200x1000 with 0 Axes>"
      ]
     },
     "metadata": {},
     "output_type": "display_data"
    },
    {
     "data": {
      "image/png": "[encoded data removed]",
      "text/plain": [
       "<Figure size 640x480 with 1 Axes>"
      ]
     },
     "metadata": {},
     "output_type": "display_data"
    }
   ],
   "source": [
    "#--Visualizing polarity scores\n",
    "plt.figure(figsize = (12,10))\n",
    "new_df.plot(kind = 'bar', color = ['slateblue','crimson','gold'])\n",
    "plt.show()"
   ]
  },
  {
   "cell_type": "markdown",
   "id": "ba224373",
   "metadata": {},
   "source": [
    "<span style='font-family:Lato' ><span style='font-size:135%;'>\n",
    "    <center><span style='font-family:Lato' ><span style='font-size:135%;'> INSIGHTS </span></center>\n",
    "    <ul><span style='font-family:Lato'><span style='font-size:125%;'>\n",
    "        <li> Looking at graph above we see that there are majority of negative posts / news in the data </li>\n",
    "        <li> Based on categories we find that, there seems to be only negative new/posts from the countries in middle and bottom category and the only postive posts/news are the one's from the top category.</li>\n",
    "        <li> There are two ways to go about it : </li>\n",
    "        <ol> <span style='font-family:Lato'><span style='font-size:125;'>\n",
    "            <li> Either the posts from the middle, bottom country are generally more negative than positive. </li>\n",
    "            <li> Or that we have biased in our data which only had negative posts from middle , bottom category.This biasness could be simply because of the less number of posts from those category companies.</li>\n",
    "            </span>\n",
    "        </ol>\n",
    "        </span>\n",
    "    </ul>"
   ]
  }
 ],
 "metadata": {
  "kernelspec": {
   "display_name": "Python 3 (ipykernel)",
   "language": "python",
   "name": "python3"
  },
  "language_info": {
   "codemirror_mode": {
    "name": "ipython",
    "version": 3
   },
   "file_extension": ".py",
   "mimetype": "text/x-python",
   "name": "python",
   "nbconvert_exporter": "python",
   "pygments_lexer": "ipython3",
   "version": "3.9.13"
  }
 },
 "nbformat": 4,
 "nbformat_minor": 5
}
