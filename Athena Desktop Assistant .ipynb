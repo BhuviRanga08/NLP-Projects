{
 "cells": [
  {
   "cell_type": "code",
   "execution_count": 1,
   "id": "d806939c",
   "metadata": {},
   "outputs": [],
   "source": [
    "#Athena Desktop Assistant "
   ]
  },
  {
   "cell_type": "code",
   "execution_count": 15,
   "id": "1a9c7052",
   "metadata": {},
   "outputs": [],
   "source": [
    "#--Importing the required libraries\n",
    "import os\n",
    "import speech_recognition as sr\n",
    "import webbrowser\n",
    "import datetime\n",
    "import random\n",
    "import pyttsx3"
   ]
  },
  {
   "cell_type": "code",
   "execution_count": 12,
   "id": "ccbdd40d",
   "metadata": {},
   "outputs": [],
   "source": [
    "def say(text):\n",
    "    engine = pyttsx3.init()\n",
    "    engine.say(text)\n",
    "    engine.runAndWait()\n",
    "\n",
    "if __name__ == \"__main__\":\n",
    "    say('Hello, I am Athena Desktop Assistant')"
   ]
  },
  {
   "cell_type": "code",
   "execution_count": 17,
   "id": "4ad06f97",
   "metadata": {},
   "outputs": [
    {
     "name": "stdout",
     "output_type": "stream",
     "text": [
      "Vision Desktop Assistant\n",
      "Listening...\n",
      "Recognizing...\n",
      "User said: ok open YouTube\n",
      "Listening...\n",
      "Recognizing...\n",
      "Listening...\n",
      "Recognizing...\n",
      "User said: what is the timing\n",
      "Listening...\n",
      "Recognizing...\n",
      "Listening...\n",
      "Recognizing...\n",
      "User said: what is the time right now\n",
      "Listening...\n",
      "Recognizing...\n",
      "User said: get some restaurant\n"
     ]
    }
   ],
   "source": [
    "def takeCommand():\n",
    "    r = sr.Recognizer()\n",
    "    with sr.Microphone() as source:\n",
    "        r.pause_threshold =  0.6\n",
    "        audio = r.listen(source)\n",
    "        try:\n",
    "            print(\"Recognizing...\")\n",
    "            query = r.recognize_google(audio, language=\"en-in\")\n",
    "            print(f\"User said: {query}\")\n",
    "            return query\n",
    "        except Exception as e:\n",
    "            return \"I am encountering some error. Please try again.\"\n",
    "\n",
    "if __name__ == '__main__':\n",
    "    print('Athena Desktop Assistant')\n",
    "    say(\"Hello Ma'am , Welcome to Athena Desktop Assistant. How can I be of help today?\")\n",
    "    while True:\n",
    "        print(\"Listening...\")\n",
    "        query = takeCommand()\n",
    "        sites = [\n",
    "    [\"youtube\", \"https://www.youtube.com\"],\n",
    "    [\"wikipedia\", \"https://www.wikipedia.com\"],\n",
    "    [\"google\", \"https://www.google.com\"],\n",
    "    [\"facebook\", \"https://www.facebook.com\"],\n",
    "    [\"twitter\", \"https://www.twitter.com\"],\n",
    "    [\"instagram\", \"https://www.instagram.com\"],\n",
    "    [\"linkedin\", \"https://www.linkedin.com\"],\n",
    "    [\"reddit\", \"https://www.reddit.com\"],\n",
    "    [\"amazon\", \"https://www.amazon.com\"],\n",
    "    [\"netflix\", \"https://www.netflix.com\"],\n",
    "    [\"yahoo\", \"https://www.yahoo.com\"],\n",
    "    [\"github\", \"https://www.github.com\"],\n",
    "    [\"pinterest\", \"https://www.pinterest.com\"],\n",
    "    [\"apple\", \"https://www.apple.com\"],\n",
    "    [\"microsoft\", \"https://www.microsoft.com\"],\n",
    "]      \n",
    "        for site in sites:\n",
    "            if f\"Open {site[0]}\".lower() in query.lower():\n",
    "                say(f\"Opening {site[0]} maam...\")\n",
    "                webbrowser.open(site[1])\n",
    "        if \"time\" in query:\n",
    "            current_time = datetime.datetime.now().time()\n",
    "            hour = current_time.hour\n",
    "            min_ = current_time.minute\n",
    "            say(f\"Ma'am it is currently {hour} and {min_} minutes\")\n",
    "\n",
    "\n",
    "        elif \"tell me a joke\".lower() in query.lower():\n",
    "            jokes = [\n",
    "    \"Why did the scarecrow win an award? Because he was outstanding in his field!\",\n",
    "    \"What do you call a bear with no teeth? A gummy bear!\",\n",
    "    \"How do you organize a space party? You 'planet'!\",\n",
    "    \"What's orange and sounds like a parrot? A carrot!\",\n",
    "    \"Did you hear about the mathematician who's afraid of negative numbers? He'll stop at nothing to avoid them!\",\n",
    "    \"What do you call a fish with no eyes? Fsh!\",\n",
    "    \"Why don't scientists trust atoms? Because they make up everything!\",\n",
    "    \"How do you make a tissue dance? You put a little boogie in it!\",\n",
    "    \"Why did the bicycle fall over? Because it was two-tired!\",\n",
    "    \"What do you call a cheese that isn't yours? Nacho cheese!\",\n",
    "    \"I used to play piano by ear, but now I use my hands.\",\n",
    "    \"Parallel lines have so much in common. It's a shame they'll never meet.\",\n",
    "    \"Why did the golfer bring two pairs of pants? In case he got a hole in one!\",\n",
    "    \"What do you call a bear that's stuck in the rain? A drizzly bear!\",\n",
    "    \"Did you hear about the mathematician who's afraid of negative numbers? He'll stop at nothing to avoid them!\"\n",
    "]\n",
    "            say(random.choice(jokes))\n",
    "\n",
    "        elif \"get some rest\".lower() in query.lower():\n",
    "            say(f\"Shutting down. Looking to help you another time\")\n",
    "            break"
   ]
  }
 ],
 "metadata": {
  "kernelspec": {
   "display_name": "Python 3 (ipykernel)",
   "language": "python",
   "name": "python3"
  },
  "language_info": {
   "codemirror_mode": {
    "name": "ipython",
    "version": 3
   },
   "file_extension": ".py",
   "mimetype": "text/x-python",
   "name": "python",
   "nbconvert_exporter": "python",
   "pygments_lexer": "ipython3",
   "version": "3.9.13"
  }
 },
 "nbformat": 4,
 "nbformat_minor": 5
}
